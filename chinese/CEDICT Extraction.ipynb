{
 "cells": [
  {
   "cell_type": "code",
   "execution_count": 5,
   "metadata": {},
   "outputs": [],
   "source": [
    "cedict = open(\"cedict_ts.u8\")\n",
    "entries = [line for line in cedict if line[0] != \"#\"]"
   ]
  },
  {
   "cell_type": "code",
   "execution_count": 4,
   "metadata": {
    "scrolled": true
   },
   "outputs": [
    {
     "data": {
      "text/plain": [
       "['一條龍 一条龙 [yi1 tiao2 long2] /lit. one dragon/integrated chain/coordinated process/\\n',\n",
       " '一條龍服務 一条龙服务 [yi1 tiao2 long2 fu2 wu4] /one-stop service/\\n',\n",
       " '一概 一概 [yi1 gai4] /all/without any exceptions/categorically/\\n',\n",
       " '一概而論 一概而论 [yi1 gai4 er2 lun4] /to lump different matters together (idiom)/\\n',\n",
       " '一槌定音 一槌定音 [yi1 chui2 ding4 yin1] /variant of 一錘定音|一锤定音[yi1 chui2 ding4 yin1]/\\n',\n",
       " '一模一樣 一模一样 [yi1 mu2 yi1 yang4] /exactly the same (idiom)/carbon copy/also pr. [yi1 mo2 yi1 yang4]/\\n',\n",
       " '一樣 一样 [yi1 yang4] /same/like/equal to/the same as/just like/\\n',\n",
       " '一次 一次 [yi1 ci4] /first/first time/once/(math.) linear (of degree one)/\\n',\n",
       " '一次函數 一次函数 [yi1 ci4 han2 shu4] /linear function (math.)/\\n',\n",
       " '一次又一次 一次又一次 [yi1 ci4 you4 yi1 ci4] /repeatedly/over and over again/\\n',\n",
       " '一次性 一次性 [yi1 ci4 xing4] /one-off (offer)/one-time/single-use/disposable (goods)/\\n',\n",
       " '一次方程 一次方程 [yi1 ci4 fang1 cheng2] /linear equation/\\n',\n",
       " '一次方程式 一次方程式 [yi1 ci4 fang1 cheng2 shi4] /linear equation (math.)/\\n',\n",
       " '一次生，兩次熟 一次生，两次熟 [yi1 ci4 sheng1 , liang3 ci4 shu2] /unfamiliar at first but you get used to it/strangers are first meeting, but soon friends/an acquired taste/\\n',\n",
       " '一次總付 一次总付 [yi1 ci4 zong3 fu4] /lump-sum (finance)/\\n',\n",
       " '一步一個腳印 一步一个脚印 [yi1 bu4 yi1 ge4 jiao3 yin4] /one step, one footprint (idiom); steady progress/reliable/\\n',\n",
       " '一步一趨 一步一趋 [yi1 bu4 yi1 qu1] /see 亦步亦趨|亦步亦趋[yi4 bu4 yi4 qu1]/\\n',\n",
       " '一步到位 一步到位 [yi1 bu4 dao4 wei4] /to settle a matter in one go/\\n',\n",
       " \"一步登天 一步登天 [yi1 bu4 deng1 tian1] /reaching heaven in a single bound (idiom); (esp. with negative: don't expect) instant success/\\n\",\n",
       " '一毛不拔 一毛不拔 [yi1 mao2 bu4 ba2] /stingy (idiom)/\\n',\n",
       " '一氣 一气 [yi1 qi4] /at one go/at a stretch/for a period of time/forming a gang/\\n',\n",
       " '一氣之下 一气之下 [yi1 qi4 zhi1 xia4] /in a fit of pique/in a fury/\\n',\n",
       " '一氣呵成 一气呵成 [yi1 qi4 he1 cheng2] /to do something at one go/to flow smoothly/\\n',\n",
       " '一氧化二氮 一氧化二氮 [yi1 yang3 hua4 er4 dan4] /nitrous oxide N2O/laughing gas/\\n',\n",
       " '一氧化氮 一氧化氮 [yi1 yang3 hua4 dan4] /nitric oxide/\\n',\n",
       " '一氧化碳 一氧化碳 [yi1 yang3 hua4 tan4] /carbon monoxide CO/\\n',\n",
       " '一水兒 一水儿 [yi1 shui3 r5] /(coll.) of the same type/identical/\\n',\n",
       " '一決雌雄 一决雌雄 [yi1 jue2 ci2 xiong2] /to have a show-down/to fight for mastery/to compete for a championship/\\n',\n",
       " '一波三折 一波三折 [yi1 bo1 san1 zhe2] /calligraphic flourish with many twists/fig. many twists and turns/\\n',\n",
       " '一波未平，一波又起 一波未平，一波又起 [yi1 bo1 wei4 ping2 , yi1 bo1 you4 qi3] /before the first wave subsides, a new wave rises (idiom); a new problem arises before the old is solved/many twists and turns to a story/one thing after another/\\n',\n",
       " '一派胡言 一派胡言 [yi1 pai4 hu2 yan2] /a bunch of nonsense/\\n',\n",
       " '一派謊言 一派谎言 [yi1 pai4 huang3 yan2] /a pack of lies/\\n',\n",
       " '一流 一流 [yi1 liu2] /top quality/front ranking/\\n',\n",
       " '一清二楚 一清二楚 [yi1 qing1 er4 chu3] /to be very clear about sth (idiom)/\\n',\n",
       " '一清二白 一清二白 [yi1 qing1 er4 bai2] /perfectly clean/blameless/unimpeachable (idiom)/\\n',\n",
       " '一清如水 一清如水 [yi1 qing1 ru2 shui3] /lit. as clear as water (idiom)/fig. (of officials etc) honest and incorruptible/\\n',\n",
       " '一清早 一清早 [yi1 qing1 zao3] /early in the morning/\\n',\n",
       " '一準 一准 [yi1 zhun3] /certainly/\\n',\n",
       " '一溜煙 一溜烟 [yi1 liu4 yan1] /like a wisp of smoke/(to disappear etc) in an instant/\\n',\n",
       " '一潭死水 一潭死水 [yi1 tan2 si3 shui3] /a pool of stagnant water/stagnant or listless condition/\\n',\n",
       " '一炮打響 一炮打响 [yi1 pao4 da3 xiang3] /to win instant success (idiom)/to start off successfully/\\n',\n",
       " '一炮而紅 一炮而红 [yi1 pao4 er2 hong2] /to win instant success (idiom)/to become an instant hit/\\n',\n",
       " '一無所動 一无所动 [yi1 wu2 suo3 dong4] /totally unaffected/unimpressed/\\n',\n",
       " '一無所有 一无所有 [yi1 wu2 suo3 you3] /not having anything at all (idiom); utterly lacking/without two sticks to rub together/\\n',\n",
       " '一無所獲 一无所获 [yi1 wu2 suo3 huo4] /to gain nothing/to end up empty-handed/\\n',\n",
       " '一無所知 一无所知 [yi1 wu2 suo3 zhi1] /not knowing anything at all (idiom); completely ignorant/without an inkling/\\n',\n",
       " '一無所聞 一无所闻 [yi1 wu2 suo3 wen2] /unheard of/\\n',\n",
       " '一無所長 一无所长 [yi1 wu2 suo3 chang2] /not having any special skill/without any qualifications/\\n',\n",
       " '一無是處 一无是处 [yi1 wu2 shi4 chu4] /not one good point/everything about it is wrong/\\n',\n",
       " '一物降一物 一物降一物 [yi1 wu4 xiang2 yi1 wu4] /lit. one object bests another object/every item has a weakness (idiom)/there is a rock to every scissor, a scissor to every paper, and a paper to every rock/\\n']"
      ]
     },
     "execution_count": 4,
     "metadata": {},
     "output_type": "execute_result"
    }
   ],
   "source": [
    "testers = entries[550:600]\n",
    "testers"
   ]
  },
  {
   "cell_type": "code",
   "execution_count": null,
   "metadata": {
    "collapsed": true
   },
   "outputs": [],
   "source": []
  }
 ],
 "metadata": {
  "kernelspec": {
   "display_name": "Python 3",
   "language": "python",
   "name": "python3"
  },
  "language_info": {
   "codemirror_mode": {
    "name": "ipython",
    "version": 3
   },
   "file_extension": ".py",
   "mimetype": "text/x-python",
   "name": "python",
   "nbconvert_exporter": "python",
   "pygments_lexer": "ipython3",
   "version": "3.6.3"
  }
 },
 "nbformat": 4,
 "nbformat_minor": 2
}
